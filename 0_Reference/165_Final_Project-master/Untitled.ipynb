{
 "cells": [
  {
   "cell_type": "code",
   "execution_count": 12,
   "metadata": {},
   "outputs": [
    {
     "data": {
      "text/html": [
       "<div>\n",
       "<style scoped>\n",
       "    .dataframe tbody tr th:only-of-type {\n",
       "        vertical-align: middle;\n",
       "    }\n",
       "\n",
       "    .dataframe tbody tr th {\n",
       "        vertical-align: top;\n",
       "    }\n",
       "\n",
       "    .dataframe thead th {\n",
       "        text-align: right;\n",
       "    }\n",
       "</style>\n",
       "<table border=\"1\" class=\"dataframe\">\n",
       "  <thead>\n",
       "    <tr style=\"text-align: right;\">\n",
       "      <th></th>\n",
       "      <th>state_name</th>\n",
       "      <th>year</th>\n",
       "      <th>cases</th>\n",
       "    </tr>\n",
       "  </thead>\n",
       "  <tbody>\n",
       "    <tr>\n",
       "      <th>0</th>\n",
       "      <td>ALABAMA</td>\n",
       "      <td>1966</td>\n",
       "      <td>321</td>\n",
       "    </tr>\n",
       "    <tr>\n",
       "      <th>1</th>\n",
       "      <td>ALABAMA</td>\n",
       "      <td>1967</td>\n",
       "      <td>291</td>\n",
       "    </tr>\n",
       "    <tr>\n",
       "      <th>2</th>\n",
       "      <td>ALABAMA</td>\n",
       "      <td>1968</td>\n",
       "      <td>314</td>\n",
       "    </tr>\n",
       "    <tr>\n",
       "      <th>3</th>\n",
       "      <td>ALABAMA</td>\n",
       "      <td>1969</td>\n",
       "      <td>380</td>\n",
       "    </tr>\n",
       "    <tr>\n",
       "      <th>4</th>\n",
       "      <td>ALABAMA</td>\n",
       "      <td>1970</td>\n",
       "      <td>413</td>\n",
       "    </tr>\n",
       "  </tbody>\n",
       "</table>\n",
       "</div>"
      ],
      "text/plain": [
       "  state_name  year  cases\n",
       "0    ALABAMA  1966    321\n",
       "1    ALABAMA  1967    291\n",
       "2    ALABAMA  1968    314\n",
       "3    ALABAMA  1969    380\n",
       "4    ALABAMA  1970    413"
      ]
     },
     "execution_count": 12,
     "metadata": {},
     "output_type": "execute_result"
    }
   ],
   "source": [
    "# Dependencies and Setup\n",
    "import pandas as pd\n",
    "import numpy as np\n",
    "\n",
    "# File to Load (Remember to Change These)\n",
    "hepatitis_byyear_cases = \"C:/Users/beatl/Desktop/GroupProject_PoxyServer/1_Input/inputData/hepatitis_byYear_cases.csv\"\n",
    "hepatitis_byYear_casesPerCapit = \"C:/Users/beatl/Desktop/GroupProject_PoxyServer/1_Input/inputData/hepatitis_byYear_cases.csv\"\n",
    "measles_byYear_cases = \"C:/Users/beatl/Desktop/GroupProject_PoxyServer/1_Input/inputData/hepatitis_byYear_cases.csv\"\n",
    "measles_byYear_casesPerCapita = \"C:/Users/beatl/Desktop/GroupProject_PoxyServer/1_Input/inputData/hepatitis_byYear_cases.csv\"\n",
    "hepatitis_data_to_load = \"C:/Users/beatl/Desktop/GroupProject_PoxyServer/1_Input/inputData/hepatitis_byYear_cases.csv\"\n",
    "hepatitis_data_to_load = \"C:/Users/beatl/Desktop/GroupProject_PoxyServer/1_Input/inputData/hepatitis_byYear_cases.csv\"\n",
    "hepatitis_data_to_load = \"C:/Users/beatl/Desktop/GroupProject_PoxyServer/1_Input/inputData/hepatitis_byYear_cases.csv\"\n",
    "hepatitis_data_to_load = \"C:/Users/beatl/Desktop/GroupProject_PoxyServer/1_Input/inputData/hepatitis_byYear_cases.csv\"\n",
    "hepatitis_data_to_load = \"C:/Users/beatl/Desktop/GroupProject_PoxyServer/1_Input/inputData/hepatitis_byYear_cases.csv\"\n",
    "hepatitis_data_to_load = \"C:/Users/beatl/Desktop/GroupProject_PoxyServer/1_Input/inputData/hepatitis_byYear_cases.csv\"\n",
    "hepatitis_data_to_load = \"C:/Users/beatl/Desktop/GroupProject_PoxyServer/1_Input/inputData/hepatitis_byYear_cases.csv\"\n",
    "hepatitis_data_to_load = \"C:/Users/beatl/Desktop/GroupProject_PoxyServer/1_Input/inputData/hepatitis_byYear_cases.csv\"\n",
    "hepatitis_data_to_load = \"C:/Users/beatl/Desktop/GroupProject_PoxyServer/1_Input/inputData/hepatitis_byYear_cases.csv\"\n",
    "hepatitis_data_to_load = \"C:/Users/beatl/Desktop/GroupProject_PoxyServer/1_Input/inputData/hepatitis_byYear_cases.csv\"\n",
    "# Read diseases data and store into Pandas Data Frames\n",
    "hepatitis_data = pd.read_csv(hepatitis_data_to_load)\n",
    "\n",
    "# Combine the data into a single dataset\n",
    "hepatitis_data.head()"
   ]
  },
  {
   "cell_type": "code",
   "execution_count": null,
   "metadata": {},
   "outputs": [],
   "source": []
  },
  {
   "cell_type": "code",
   "execution_count": null,
   "metadata": {},
   "outputs": [],
   "source": []
  }
 ],
 "metadata": {
  "kernelspec": {
   "display_name": "Python 3",
   "language": "python",
   "name": "python3"
  },
  "language_info": {
   "codemirror_mode": {
    "name": "ipython",
    "version": 3
   },
   "file_extension": ".py",
   "mimetype": "text/x-python",
   "name": "python",
   "nbconvert_exporter": "python",
   "pygments_lexer": "ipython3",
   "version": "3.7.0"
  }
 },
 "nbformat": 4,
 "nbformat_minor": 2
}
