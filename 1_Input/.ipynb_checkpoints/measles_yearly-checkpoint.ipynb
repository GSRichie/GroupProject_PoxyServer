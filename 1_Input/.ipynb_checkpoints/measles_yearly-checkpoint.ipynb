{
 "cells": [
  {
   "cell_type": "code",
   "execution_count": 1,
   "metadata": {},
   "outputs": [],
   "source": [
    "import pandas as pd\n",
    "import numpy as np\n",
    "\n",
    "diseases = [\"measles\", \"mumps\", \"rubella\", \"hepatitis\", \"pertussis\", \"rubella\", \"smallpox\", \"polio\"]\n",
    "\n"
   ]
  },
  {
   "cell_type": "code",
   "execution_count": 2,
   "metadata": {},
   "outputs": [
    {
     "name": "stdout",
     "output_type": "stream",
     "text": [
      "written: measles_byYear.csv\n"
     ]
    }
   ],
   "source": [
    "#read csv\n",
    "inputPath = \".csv\"\n",
    "data = pd.read_csv(\"dataSource/contagious-diseases/measles.csv\") \n",
    "data.head()\n",
    "#add column with year extracted\n",
    "data['year'] = data['week'].astype(str).str[:-2].astype(np.int64)\n",
    "data.head()\n",
    "#group by with sum cases per year and state_name\n",
    "data2 = pd.DataFrame(data.groupby([\"state_name\", \"year\"])[\"cases\"].sum())\n",
    "data2.head()\n",
    "#write csv\n",
    "outputPath = \"measles\" + \"_byYear.csv\"\n",
    "data2.to_csv(\"inputData/measles_byYear.csv\")\n",
    "print(\"written: \" + outputPath)"
   ]
  },
  {
   "cell_type": "code",
   "execution_count": 3,
   "metadata": {},
   "outputs": [
    {
     "name": "stdout",
     "output_type": "stream",
     "text": [
      "measles\n",
      "mumps\n",
      "rubella\n",
      "hepatitis\n",
      "pertussis\n",
      "rubella\n",
      "smallpox\n"
     ]
    }
   ],
   "source": [
    "for item in diseases:\n",
    "    print(item)"
   ]
  },
  {
   "cell_type": "code",
   "execution_count": 6,
   "metadata": {},
   "outputs": [
    {
     "name": "stdout",
     "output_type": "stream",
     "text": [
      "read: measles.csv\n",
      "written: inputData/measles_byYear.csv\n",
      "\n",
      "read: mumps.csv\n",
      "written: inputData/mumps_byYear.csv\n",
      "\n",
      "read: rubella.csv\n",
      "written: inputData/rubella_byYear.csv\n",
      "\n",
      "read: hepatitis.csv\n",
      "written: inputData/hepatitis_byYear.csv\n",
      "\n",
      "read: pertussis.csv\n",
      "written: inputData/pertussis_byYear.csv\n",
      "\n",
      "read: rubella.csv\n",
      "written: inputData/rubella_byYear.csv\n",
      "\n",
      "read: smallpox.csv\n",
      "written: inputData/smallpox_byYear.csv\n",
      "\n"
     ]
    }
   ],
   "source": [
    "for item in diseases:\n",
    "    #read csv\n",
    "    inputPath = item + \".csv\"\n",
    "    data = pd.read_csv(\"dataSource/contagious-diseases/measles.csv\") \n",
    "    data.head()\n",
    "    print(\"read: \" + inputPath)\n",
    "    #add column with year extracted\n",
    "    data['year'] = data['week'].astype(str).str[:-2].astype(np.int64)\n",
    "    data.head()\n",
    "    #group by with sum cases per year and state_name\n",
    "    data2 = pd.DataFrame(data.groupby([\"state_name\", \"year\"])[\"cases\"].sum())\n",
    "    data2.head()\n",
    "    #write csv\n",
    "    outputPath = \"inputData/\" + item + \"_byYear.csv\"\n",
    "    data2.to_csv(outputPath)\n",
    "    print(\"written: \" + outputPath + \"\\n\")"
   ]
  },
  {
   "cell_type": "code",
   "execution_count": null,
   "metadata": {},
   "outputs": [],
   "source": []
  },
  {
   "cell_type": "code",
   "execution_count": null,
   "metadata": {},
   "outputs": [],
   "source": []
  },
  {
   "cell_type": "code",
   "execution_count": null,
   "metadata": {},
   "outputs": [],
   "source": []
  }
 ],
 "metadata": {
  "kernelspec": {
   "display_name": "Python 3",
   "language": "python",
   "name": "python3"
  },
  "language_info": {
   "codemirror_mode": {
    "name": "ipython",
    "version": 3
   },
   "file_extension": ".py",
   "mimetype": "text/x-python",
   "name": "python",
   "nbconvert_exporter": "python",
   "pygments_lexer": "ipython3",
   "version": "3.7.0"
  }
 },
 "nbformat": 4,
 "nbformat_minor": 2
}
